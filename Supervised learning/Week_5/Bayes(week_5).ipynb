{
 "cells": [
  {
   "cell_type": "code",
   "execution_count": 27,
   "metadata": {},
   "outputs": [],
   "source": [
    "from sklearn import datasets\n",
    "from sklearn.cross_validation import cross_val_score, train_test_split\n",
    "from sklearn.naive_bayes import BernoulliNB, GaussianNB, MultinomialNB\n",
    "import numpy as np"
   ]
  },
  {
   "cell_type": "code",
   "execution_count": 9,
   "metadata": {},
   "outputs": [],
   "source": [
    "digits = datasets.load_digits(return_X_y=True)\n",
    "breast_cancer = datasets.load_breast_cancer(return_X_y=True)\n",
    "\n",
    "X_digits = digits[0]\n",
    "y_digits = digits[1]\n",
    "\n",
    "X_breast_cancer = breast_cancer[0]\n",
    "y_breast_cancer = breast_cancer[1]\n",
    "\n",
    "(X_train_digits, X_test_digits, \n",
    " y_train_digits, y_test_digits) = train_test_split(X_digits, y_digits, \n",
    "                                                   random_state=0, test_size=0.3)\n",
    "\n",
    "(X_train_breast_cancer, X_test_breast_cancer, \n",
    " y_train_breast_cancer, y_test_breast_cancer) = train_test_split(X_breast_cancer, y_breast_cancer, \n",
    "                                                                 random_state=0, test_size=0.3)"
   ]
  },
  {
   "cell_type": "code",
   "execution_count": 22,
   "metadata": {},
   "outputs": [
    {
     "data": {
      "text/plain": [
       "array([[ 0.,  0.,  0.,  8., 10., 14.,  3.,  0.,  0.,  1., 13., 13.,  9.,\n",
       "        12.,  8.,  0.,  0.,  6., 16.,  8.,  8., 16.,  4.,  0.,  0.,  5.,\n",
       "        16., 16., 16.,  9.,  0.,  0.,  0.,  0.,  5.,  8., 14., 12.,  0.,\n",
       "         0.,  0.,  0.,  0.,  3., 16.,  5.,  0.,  0.,  0.,  0.,  0., 15.,\n",
       "         8.,  0.,  0.,  0.,  0.,  0.,  1., 12.,  2.,  0.,  0.,  0.],\n",
       "       [ 0.,  0.,  7., 16., 12.,  1.,  0.,  0.,  0.,  0., 16., 11., 16.,\n",
       "         8.,  0.,  0.,  0.,  0.,  3.,  9., 16.,  6.,  0.,  0.,  0.,  0.,\n",
       "         0., 13., 16., 15.,  1.,  0.,  0.,  0.,  1.,  2.,  5., 14.,  8.,\n",
       "         0.,  0.,  5., 14.,  0.,  0.,  9., 15.,  0.,  0.,  4., 16.,  7.,\n",
       "         6., 13., 14.,  0.,  0.,  0.,  7., 16., 16., 16.,  4.,  0.]])"
      ]
     },
     "execution_count": 22,
     "metadata": {},
     "output_type": "execute_result"
    }
   ],
   "source": [
    "X_train_digits[0:2,:]"
   ]
  },
  {
   "cell_type": "code",
   "execution_count": 23,
   "metadata": {},
   "outputs": [
    {
     "data": {
      "text/plain": [
       "array([[1.149e+01, 1.459e+01, 7.399e+01, 4.049e+02, 1.046e-01, 8.228e-02,\n",
       "        5.308e-02, 1.969e-02, 1.779e-01, 6.574e-02, 2.034e-01, 1.166e+00,\n",
       "        1.567e+00, 1.434e+01, 4.957e-03, 2.114e-02, 4.156e-02, 8.038e-03,\n",
       "        1.843e-02, 3.614e-03, 1.240e+01, 2.190e+01, 8.204e+01, 4.676e+02,\n",
       "        1.352e-01, 2.010e-01, 2.596e-01, 7.431e-02, 2.941e-01, 9.180e-02],\n",
       "       [1.049e+01, 1.861e+01, 6.686e+01, 3.343e+02, 1.068e-01, 6.678e-02,\n",
       "        2.297e-02, 1.780e-02, 1.482e-01, 6.600e-02, 1.485e-01, 1.563e+00,\n",
       "        1.035e+00, 1.008e+01, 8.875e-03, 9.362e-03, 1.808e-02, 9.199e-03,\n",
       "        1.791e-02, 3.317e-03, 1.106e+01, 2.454e+01, 7.076e+01, 3.754e+02,\n",
       "        1.413e-01, 1.044e-01, 8.423e-02, 6.528e-02, 2.213e-01, 7.842e-02]])"
      ]
     },
     "execution_count": 23,
     "metadata": {},
     "output_type": "execute_result"
    }
   ],
   "source": [
    "X_train_breast_cancer[0:2,:]"
   ]
  },
  {
   "cell_type": "code",
   "execution_count": 30,
   "metadata": {},
   "outputs": [
    {
     "name": "stdout",
     "output_type": "stream",
     "text": [
      "0.8274239899239898\n",
      "0.8866524491524492\n",
      "0.8039036839036839\n",
      "0.6316883116883116\n",
      "0.8947186147186148\n",
      "0.9354112554112554\n"
     ]
    }
   ],
   "source": [
    "classifiers = [BernoulliNB(), MultinomialNB(), GaussianNB()]\n",
    "errors_digits = []\n",
    "errors_breast_cancer = []\n",
    "\n",
    "for i in range(len(classifiers)):\n",
    "    digits_classifier = classifiers[i]\n",
    "    digits_classifier.fit(X_train_digits, y_train_digits)\n",
    "    y_pred_digits = digits_classifier.predict(X_test_digits)\n",
    "    \n",
    "    breast_cancer_classifier = classifiers[i]\n",
    "    breast_cancer_classifier.fit(X_train_breast_cancer, y_train_breast_cancer)\n",
    "    y_pred_breast_cancer = breast_cancer_classifier.predict(X_test_breast_cancer)\n",
    "    \n",
    "    errors_digits.append(cross_val_score(digits_classifier, X_test_digits, y_test_digits, cv=5))\n",
    "    errors_breast_cancer.append(cross_val_score(breast_cancer_classifier, X_test_breast_cancer, y_test_breast_cancer, cv=5))\n",
    "\n",
    "print(np.mean(errors_digits[0]))\n",
    "print(np.mean(errors_digits[1]))\n",
    "print(np.mean(errors_digits[2]))\n",
    "\n",
    "print(np.mean(errors_breast_cancer[0]))\n",
    "print(np.mean(errors_breast_cancer[1]))\n",
    "print(np.mean(errors_breast_cancer[2]))"
   ]
  },
  {
   "cell_type": "code",
   "execution_count": null,
   "metadata": {},
   "outputs": [],
   "source": []
  }
 ],
 "metadata": {
  "kernelspec": {
   "display_name": "Python 2",
   "language": "python",
   "name": "python2"
  },
  "language_info": {
   "codemirror_mode": {
    "name": "ipython",
    "version": 2
   },
   "file_extension": ".py",
   "mimetype": "text/x-python",
   "name": "python",
   "nbconvert_exporter": "python",
   "pygments_lexer": "ipython2",
   "version": "2.7.14"
  }
 },
 "nbformat": 4,
 "nbformat_minor": 2
}
